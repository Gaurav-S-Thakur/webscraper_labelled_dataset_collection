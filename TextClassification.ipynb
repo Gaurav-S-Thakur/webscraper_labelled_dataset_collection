{
 "cells": [
  {
   "cell_type": "code",
   "execution_count": 109,
   "metadata": {
    "collapsed": true
   },
   "outputs": [],
   "source": [
    "from nltk.corpus import stopwords, reuters\n",
    "from sklearn.feature_extraction.text import TfidfVectorizer\n",
    "from sklearn.preprocessing import MultiLabelBinarizer\n",
    "from sklearn.svm import LinearSVC\n",
    "from sklearn.multiclass import OneVsRestClassifier\n",
    "stop_words = stopwords.words(\"english\")\n",
    "import numpy as np\n",
    "from sklearn.metrics import f1_score, precision_score, recall_score\n",
    "import pandas as pd"
   ]
  },
  {
   "cell_type": "code",
   "execution_count": 91,
   "metadata": {
    "collapsed": true
   },
   "outputs": [],
   "source": [
    "train_percentage = 0.8\n",
    "textdata = []\n",
    "labeldata = []\n",
    "train_ids = []\n",
    "test_ids = []"
   ]
  },
  {
   "cell_type": "code",
   "execution_count": 92,
   "metadata": {
    "collapsed": false
   },
   "outputs": [],
   "source": [
    "indexer = 0\n",
    "with open(\"traindata2\",'r') as fp:\n",
    "    for line in fp:\n",
    "        text, labels = line.split(\"|***|\")\n",
    "        textdata.append(text)\n",
    "        labeldata.append(labels.split(','))\n",
    "        if np.random.random_sample() < train_percentage:\n",
    "            train_ids.append(indexer)\n",
    "        else:\n",
    "            test_ids.append(indexer)\n",
    "        indexer += 1"
   ]
  },
  {
   "cell_type": "code",
   "execution_count": 96,
   "metadata": {
    "collapsed": false
   },
   "outputs": [],
   "source": [
    "vectorizer = TfidfVectorizer()\n",
    "textdatavec = vectorizer.fit_transform(textdata)"
   ]
  },
  {
   "cell_type": "code",
   "execution_count": 97,
   "metadata": {
    "collapsed": false
   },
   "outputs": [],
   "source": [
    "Xdense = textdatavec.toarray()"
   ]
  },
  {
   "cell_type": "code",
   "execution_count": 98,
   "metadata": {
    "collapsed": false
   },
   "outputs": [],
   "source": [
    "Xtraindense = Xdense[train_ids]\n",
    "Xtestdense = Xdense[test_ids]"
   ]
  },
  {
   "cell_type": "code",
   "execution_count": 111,
   "metadata": {
    "collapsed": true
   },
   "outputs": [],
   "source": [
    "colnames = [\"word{}\".format(i) for i in range(Xtraindense.shape[1])]"
   ]
  },
  {
   "cell_type": "code",
   "execution_count": 115,
   "metadata": {
    "collapsed": false
   },
   "outputs": [],
   "source": [
    "dftraindata = {colnames[i]: Xtraindense[:i] for i in range(len(colnames))}\n",
    "dftestdata = {colnames[i]: Xtestdense[:i] for i in range(len(colnames))}"
   ]
  },
  {
   "cell_type": "code",
   "execution_count": 119,
   "metadata": {
    "collapsed": false
   },
   "outputs": [],
   "source": [
    "dftrain = pd.DataFrame(Xtraindense, columns=colnames)\n",
    "dftest = pd.DataFrame(Xtestdense, columns=colnames)"
   ]
  },
  {
   "cell_type": "code",
   "execution_count": 120,
   "metadata": {
    "collapsed": false
   },
   "outputs": [
    {
     "name": "stdout",
     "output_type": "stream",
     "text": [
      "        word0     word1  word2  word3  word4     word5  word6  word7  word8  \\\n",
      "0    0.000000  0.000000    0.0    0.0    0.0  0.000000    0.0    0.0    0.0   \n",
      "1    0.000000  0.000000    0.0    0.0    0.0  0.000000    0.0    0.0    0.0   \n",
      "2    0.000000  0.000000    0.0    0.0    0.0  0.006449    0.0    0.0    0.0   \n",
      "3    0.000000  0.000000    0.0    0.0    0.0  0.000000    0.0    0.0    0.0   \n",
      "4    0.000000  0.000000    0.0    0.0    0.0  0.000000    0.0    0.0    0.0   \n",
      "5    0.000000  0.000000    0.0    0.0    0.0  0.000000    0.0    0.0    0.0   \n",
      "6    0.000000  0.000000    0.0    0.0    0.0  0.590357    0.0    0.0    0.0   \n",
      "7    0.000000  0.000000    0.0    0.0    0.0  0.000000    0.0    0.0    0.0   \n",
      "8    0.000000  0.000000    0.0    0.0    0.0  0.000000    0.0    0.0    0.0   \n",
      "9    0.000000  0.000000    0.0    0.0    0.0  0.000000    0.0    0.0    0.0   \n",
      "10   0.000000  0.000000    0.0    0.0    0.0  0.017930    0.0    0.0    0.0   \n",
      "11   0.000000  0.000000    0.0    0.0    0.0  0.010423    0.0    0.0    0.0   \n",
      "12   0.000000  0.000000    0.0    0.0    0.0  0.000000    0.0    0.0    0.0   \n",
      "13   0.000000  0.000000    0.0    0.0    0.0  0.000000    0.0    0.0    0.0   \n",
      "14   0.000000  0.000000    0.0    0.0    0.0  0.000000    0.0    0.0    0.0   \n",
      "15   0.000000  0.000000    0.0    0.0    0.0  0.000000    0.0    0.0    0.0   \n",
      "16   0.000000  0.000000    0.0    0.0    0.0  0.000000    0.0    0.0    0.0   \n",
      "17   0.000000  0.000000    0.0    0.0    0.0  0.000000    0.0    0.0    0.0   \n",
      "18   0.000000  0.000000    0.0    0.0    0.0  0.000000    0.0    0.0    0.0   \n",
      "19   0.000000  0.000000    0.0    0.0    0.0  0.000000    0.0    0.0    0.0   \n",
      "20   0.000000  0.013664    0.0    0.0    0.0  0.000000    0.0    0.0    0.0   \n",
      "21   0.033459  0.000000    0.0    0.0    0.0  0.000000    0.0    0.0    0.0   \n",
      "22   0.000000  0.000000    0.0    0.0    0.0  0.000000    0.0    0.0    0.0   \n",
      "23   0.000000  0.000000    0.0    0.0    0.0  0.000000    0.0    0.0    0.0   \n",
      "24   0.000000  0.000000    0.0    0.0    0.0  0.000000    0.0    0.0    0.0   \n",
      "25   0.000000  0.000000    0.0    0.0    0.0  0.000000    0.0    0.0    0.0   \n",
      "26   0.000000  0.000000    0.0    0.0    0.0  0.000000    0.0    0.0    0.0   \n",
      "27   0.000000  0.000000    0.0    0.0    0.0  0.000000    0.0    0.0    0.0   \n",
      "28   0.000000  0.000000    0.0    0.0    0.0  0.000000    0.0    0.0    0.0   \n",
      "29   0.000000  0.000000    0.0    0.0    0.0  0.000000    0.0    0.0    0.0   \n",
      "..        ...       ...    ...    ...    ...       ...    ...    ...    ...   \n",
      "799  0.000000  0.000000    0.0    0.0    0.0  0.000000    0.0    0.0    0.0   \n",
      "800  0.000000  0.000000    0.0    0.0    0.0  0.000000    0.0    0.0    0.0   \n",
      "801  0.000000  0.000000    0.0    0.0    0.0  0.000000    0.0    0.0    0.0   \n",
      "802  0.000000  0.000000    0.0    0.0    0.0  0.000000    0.0    0.0    0.0   \n",
      "803  0.000000  0.000000    0.0    0.0    0.0  0.000000    0.0    0.0    0.0   \n",
      "804  0.000000  0.000000    0.0    0.0    0.0  0.000000    0.0    0.0    0.0   \n",
      "805  0.000000  0.000000    0.0    0.0    0.0  0.000000    0.0    0.0    0.0   \n",
      "806  0.000000  0.000000    0.0    0.0    0.0  0.000000    0.0    0.0    0.0   \n",
      "807  0.000000  0.000000    0.0    0.0    0.0  0.000000    0.0    0.0    0.0   \n",
      "808  0.000000  0.000000    0.0    0.0    0.0  0.000000    0.0    0.0    0.0   \n",
      "809  0.000000  0.000000    0.0    0.0    0.0  0.000000    0.0    0.0    0.0   \n",
      "810  0.000000  0.000000    0.0    0.0    0.0  0.000000    0.0    0.0    0.0   \n",
      "811  0.000000  0.000000    0.0    0.0    0.0  0.000000    0.0    0.0    0.0   \n",
      "812  0.000000  0.000000    0.0    0.0    0.0  0.000000    0.0    0.0    0.0   \n",
      "813  0.000000  0.000000    0.0    0.0    0.0  0.000000    0.0    0.0    0.0   \n",
      "814  0.000000  0.000000    0.0    0.0    0.0  0.000000    0.0    0.0    0.0   \n",
      "815  0.000000  0.000000    0.0    0.0    0.0  0.000000    0.0    0.0    0.0   \n",
      "816  0.000000  0.000000    0.0    0.0    0.0  0.000000    0.0    0.0    0.0   \n",
      "817  0.000000  0.000000    0.0    0.0    0.0  0.000000    0.0    0.0    0.0   \n",
      "818  0.000000  0.000000    0.0    0.0    0.0  0.000000    0.0    0.0    0.0   \n",
      "819  0.000000  0.000000    0.0    0.0    0.0  0.000000    0.0    0.0    0.0   \n",
      "820  0.000000  0.000000    0.0    0.0    0.0  0.000000    0.0    0.0    0.0   \n",
      "821  0.000000  0.000000    0.0    0.0    0.0  0.000000    0.0    0.0    0.0   \n",
      "822  0.000000  0.000000    0.0    0.0    0.0  0.000000    0.0    0.0    0.0   \n",
      "823  0.000000  0.000000    0.0    0.0    0.0  0.000000    0.0    0.0    0.0   \n",
      "824  0.000000  0.000000    0.0    0.0    0.0  0.000000    0.0    0.0    0.0   \n",
      "825  0.000000  0.000000    0.0    0.0    0.0  0.000000    0.0    0.0    0.0   \n",
      "826  0.000000  0.000000    0.0    0.0    0.0  0.000000    0.0    0.0    0.0   \n",
      "827  0.000000  0.000000    0.0    0.0    0.0  0.000000    0.0    0.0    0.0   \n",
      "828  0.000000  0.000000    0.0    0.0    0.0  0.000000    0.0    0.0    0.0   \n",
      "\n",
      "     word9    ...      word90404  word90405  word90406  word90407  word90408  \\\n",
      "0      0.0    ...            0.0        0.0        0.0        0.0        0.0   \n",
      "1      0.0    ...            0.0        0.0        0.0        0.0        0.0   \n",
      "2      0.0    ...            0.0        0.0        0.0        0.0        0.0   \n",
      "3      0.0    ...            0.0        0.0        0.0        0.0        0.0   \n",
      "4      0.0    ...            0.0        0.0        0.0        0.0        0.0   \n",
      "5      0.0    ...            0.0        0.0        0.0        0.0        0.0   \n",
      "6      0.0    ...            0.0        0.0        0.0        0.0        0.0   \n",
      "7      0.0    ...            0.0        0.0        0.0        0.0        0.0   \n",
      "8      0.0    ...            0.0        0.0        0.0        0.0        0.0   \n",
      "9      0.0    ...            0.0        0.0        0.0        0.0        0.0   \n",
      "10     0.0    ...            0.0        0.0        0.0        0.0        0.0   \n",
      "11     0.0    ...            0.0        0.0        0.0        0.0        0.0   \n",
      "12     0.0    ...            0.0        0.0        0.0        0.0        0.0   \n",
      "13     0.0    ...            0.0        0.0        0.0        0.0        0.0   \n",
      "14     0.0    ...            0.0        0.0        0.0        0.0        0.0   \n",
      "15     0.0    ...            0.0        0.0        0.0        0.0        0.0   \n",
      "16     0.0    ...            0.0        0.0        0.0        0.0        0.0   \n",
      "17     0.0    ...            0.0        0.0        0.0        0.0        0.0   \n",
      "18     0.0    ...            0.0        0.0        0.0        0.0        0.0   \n",
      "19     0.0    ...            0.0        0.0        0.0        0.0        0.0   \n",
      "20     0.0    ...            0.0        0.0        0.0        0.0        0.0   \n",
      "21     0.0    ...            0.0        0.0        0.0        0.0        0.0   \n",
      "22     0.0    ...            0.0        0.0        0.0        0.0        0.0   \n",
      "23     0.0    ...            0.0        0.0        0.0        0.0        0.0   \n",
      "24     0.0    ...            0.0        0.0        0.0        0.0        0.0   \n",
      "25     0.0    ...            0.0        0.0        0.0        0.0        0.0   \n",
      "26     0.0    ...            0.0        0.0        0.0        0.0        0.0   \n",
      "27     0.0    ...            0.0        0.0        0.0        0.0        0.0   \n",
      "28     0.0    ...            0.0        0.0        0.0        0.0        0.0   \n",
      "29     0.0    ...            0.0        0.0        0.0        0.0        0.0   \n",
      "..     ...    ...            ...        ...        ...        ...        ...   \n",
      "799    0.0    ...            0.0        0.0        0.0        0.0        0.0   \n",
      "800    0.0    ...            0.0        0.0        0.0        0.0        0.0   \n",
      "801    0.0    ...            0.0        0.0        0.0        0.0        0.0   \n",
      "802    0.0    ...            0.0        0.0        0.0        0.0        0.0   \n",
      "803    0.0    ...            0.0        0.0        0.0        0.0        0.0   \n",
      "804    0.0    ...            0.0        0.0        0.0        0.0        0.0   \n",
      "805    0.0    ...            0.0        0.0        0.0        0.0        0.0   \n",
      "806    0.0    ...            0.0        0.0        0.0        0.0        0.0   \n",
      "807    0.0    ...            0.0        0.0        0.0        0.0        0.0   \n",
      "808    0.0    ...            0.0        0.0        0.0        0.0        0.0   \n",
      "809    0.0    ...            0.0        0.0        0.0        0.0        0.0   \n",
      "810    0.0    ...            0.0        0.0        0.0        0.0        0.0   \n",
      "811    0.0    ...            0.0        0.0        0.0        0.0        0.0   \n",
      "812    0.0    ...            0.0        0.0        0.0        0.0        0.0   \n",
      "813    0.0    ...            0.0        0.0        0.0        0.0        0.0   \n",
      "814    0.0    ...            0.0        0.0        0.0        0.0        0.0   \n",
      "815    0.0    ...            0.0        0.0        0.0        0.0        0.0   \n",
      "816    0.0    ...            0.0        0.0        0.0        0.0        0.0   \n",
      "817    0.0    ...            0.0        0.0        0.0        0.0        0.0   \n",
      "818    0.0    ...            0.0        0.0        0.0        0.0        0.0   \n",
      "819    0.0    ...            0.0        0.0        0.0        0.0        0.0   \n",
      "820    0.0    ...            0.0        0.0        0.0        0.0        0.0   \n",
      "821    0.0    ...            0.0        0.0        0.0        0.0        0.0   \n",
      "822    0.0    ...            0.0        0.0        0.0        0.0        0.0   \n",
      "823    0.0    ...            0.0        0.0        0.0        0.0        0.0   \n",
      "824    0.0    ...            0.0        0.0        0.0        0.0        0.0   \n",
      "825    0.0    ...            0.0        0.0        0.0        0.0        0.0   \n",
      "826    0.0    ...            0.0        0.0        0.0        0.0        0.0   \n",
      "827    0.0    ...            0.0        0.0        0.0        0.0        0.0   \n",
      "828    0.0    ...            0.0        0.0        0.0        0.0        0.0   \n",
      "\n",
      "     word90409  word90410  word90411  word90412  word90413  \n",
      "0          0.0        0.0        0.0        0.0        0.0  \n",
      "1          0.0        0.0        0.0        0.0        0.0  \n",
      "2          0.0        0.0        0.0        0.0        0.0  \n",
      "3          0.0        0.0        0.0        0.0        0.0  \n",
      "4          0.0        0.0        0.0        0.0        0.0  \n",
      "5          0.0        0.0        0.0        0.0        0.0  \n",
      "6          0.0        0.0        0.0        0.0        0.0  \n",
      "7          0.0        0.0        0.0        0.0        0.0  \n",
      "8          0.0        0.0        0.0        0.0        0.0  \n",
      "9          0.0        0.0        0.0        0.0        0.0  \n",
      "10         0.0        0.0        0.0        0.0        0.0  \n",
      "11         0.0        0.0        0.0        0.0        0.0  \n",
      "12         0.0        0.0        0.0        0.0        0.0  \n",
      "13         0.0        0.0        0.0        0.0        0.0  \n",
      "14         0.0        0.0        0.0        0.0        0.0  \n",
      "15         0.0        0.0        0.0        0.0        0.0  \n",
      "16         0.0        0.0        0.0        0.0        0.0  \n",
      "17         0.0        0.0        0.0        0.0        0.0  \n",
      "18         0.0        0.0        0.0        0.0        0.0  \n",
      "19         0.0        0.0        0.0        0.0        0.0  \n",
      "20         0.0        0.0        0.0        0.0        0.0  \n",
      "21         0.0        0.0        0.0        0.0        0.0  \n",
      "22         0.0        0.0        0.0        0.0        0.0  \n",
      "23         0.0        0.0        0.0        0.0        0.0  \n",
      "24         0.0        0.0        0.0        0.0        0.0  \n",
      "25         0.0        0.0        0.0        0.0        0.0  \n",
      "26         0.0        0.0        0.0        0.0        0.0  \n",
      "27         0.0        0.0        0.0        0.0        0.0  \n",
      "28         0.0        0.0        0.0        0.0        0.0  \n",
      "29         0.0        0.0        0.0        0.0        0.0  \n",
      "..         ...        ...        ...        ...        ...  \n",
      "799        0.0        0.0        0.0        0.0        0.0  \n",
      "800        0.0        0.0        0.0        0.0        0.0  \n",
      "801        0.0        0.0        0.0        0.0        0.0  \n",
      "802        0.0        0.0        0.0        0.0        0.0  \n",
      "803        0.0        0.0        0.0        0.0        0.0  \n",
      "804        0.0        0.0        0.0        0.0        0.0  \n",
      "805        0.0        0.0        0.0        0.0        0.0  \n",
      "806        0.0        0.0        0.0        0.0        0.0  \n",
      "807        0.0        0.0        0.0        0.0        0.0  \n",
      "808        0.0        0.0        0.0        0.0        0.0  \n",
      "809        0.0        0.0        0.0        0.0        0.0  \n",
      "810        0.0        0.0        0.0        0.0        0.0  \n",
      "811        0.0        0.0        0.0        0.0        0.0  \n",
      "812        0.0        0.0        0.0        0.0        0.0  \n",
      "813        0.0        0.0        0.0        0.0        0.0  \n",
      "814        0.0        0.0        0.0        0.0        0.0  \n",
      "815        0.0        0.0        0.0        0.0        0.0  \n",
      "816        0.0        0.0        0.0        0.0        0.0  \n",
      "817        0.0        0.0        0.0        0.0        0.0  \n",
      "818        0.0        0.0        0.0        0.0        0.0  \n",
      "819        0.0        0.0        0.0        0.0        0.0  \n",
      "820        0.0        0.0        0.0        0.0        0.0  \n",
      "821        0.0        0.0        0.0        0.0        0.0  \n",
      "822        0.0        0.0        0.0        0.0        0.0  \n",
      "823        0.0        0.0        0.0        0.0        0.0  \n",
      "824        0.0        0.0        0.0        0.0        0.0  \n",
      "825        0.0        0.0        0.0        0.0        0.0  \n",
      "826        0.0        0.0        0.0        0.0        0.0  \n",
      "827        0.0        0.0        0.0        0.0        0.0  \n",
      "828        0.0        0.0        0.0        0.0        0.0  \n",
      "\n",
      "[829 rows x 90414 columns]\n"
     ]
    }
   ],
   "source": [
    "print dftrain"
   ]
  },
  {
   "cell_type": "code",
   "execution_count": 99,
   "metadata": {
    "collapsed": false
   },
   "outputs": [],
   "source": [
    "mlb = MultiLabelBinarizer()"
   ]
  },
  {
   "cell_type": "code",
   "execution_count": 100,
   "metadata": {
    "collapsed": true
   },
   "outputs": [],
   "source": [
    "labelvec = mlb.fit_transform(labeldata)"
   ]
  },
  {
   "cell_type": "code",
   "execution_count": 101,
   "metadata": {
    "collapsed": true
   },
   "outputs": [],
   "source": [
    "trainlabels = labelvec[train_ids]\n",
    "testlabels = labelvec[test_ids]"
   ]
  },
  {
   "cell_type": "code",
   "execution_count": 103,
   "metadata": {
    "collapsed": false
   },
   "outputs": [
    {
     "data": {
      "text/plain": [
       "(829L, 28L)"
      ]
     },
     "execution_count": 103,
     "metadata": {},
     "output_type": "execute_result"
    }
   ],
   "source": [
    "trainlabels.shape"
   ]
  },
  {
   "cell_type": "code",
   "execution_count": 104,
   "metadata": {
    "collapsed": false
   },
   "outputs": [],
   "source": [
    "classifier = OneVsRestClassifier(LinearSVC(random_state=int(np.random.random_sample())*100))\n",
    "classifier.fit(Xtraindense, trainlabels)\n",
    "predictions = classifier.predict(Xtestdense)"
   ]
  },
  {
   "cell_type": "code",
   "execution_count": 105,
   "metadata": {
    "collapsed": false
   },
   "outputs": [],
   "source": [
    "accuracy = precision_score(testlabels, predictions, average='micro')\n",
    "recall = recall_score(testlabels, predictions, average='micro')"
   ]
  },
  {
   "cell_type": "code",
   "execution_count": 106,
   "metadata": {
    "collapsed": false
   },
   "outputs": [],
   "source": [
    "f1 = f1_score(testlabels, predictions, average='micro')"
   ]
  },
  {
   "cell_type": "code",
   "execution_count": 107,
   "metadata": {
    "collapsed": false
   },
   "outputs": [
    {
     "name": "stdout",
     "output_type": "stream",
     "text": [
      "Accuracy: 0.92438563327\n",
      "Recall: 0.765258215962\n",
      "F1: 0.837328767123\n"
     ]
    }
   ],
   "source": [
    "print \"Accuracy: {}\\nRecall: {}\\nF1: {}\".format(accuracy,recall,f1)"
   ]
  }
 ],
 "metadata": {
  "kernelspec": {
   "display_name": "Python 2",
   "language": "python",
   "name": "python2"
  },
  "language_info": {
   "codemirror_mode": {
    "name": "ipython",
    "version": 2
   },
   "file_extension": ".py",
   "mimetype": "text/x-python",
   "name": "python",
   "nbconvert_exporter": "python",
   "pygments_lexer": "ipython2",
   "version": "2.7.12"
  }
 },
 "nbformat": 4,
 "nbformat_minor": 0
}
