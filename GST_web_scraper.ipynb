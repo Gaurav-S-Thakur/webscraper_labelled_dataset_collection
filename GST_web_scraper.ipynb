{
 "cells": [
  {
   "cell_type": "code",
   "execution_count": 112,
   "metadata": {
    "collapsed": false
   },
   "outputs": [],
   "source": [
    "import urllib2\n",
    "from bs4 import BeautifulSoup, NavigableString\n",
    "import requests as req\n",
    "import string\n",
    "import re\n",
    "import pdb"
   ]
  },
  {
   "cell_type": "code",
   "execution_count": 33,
   "metadata": {
    "collapsed": false
   },
   "outputs": [],
   "source": [
    "class WebReader(object):\n",
    "    def __init__(self):\n",
    "        self._buffer = {}\n",
    "    \n",
    "    def fetch(self, origlink):\n",
    "        link = self.prune(origlink)\n",
    "        if link in self._buffer:\n",
    "            return self._buffer[link]\n",
    "        try:\n",
    "            page = urllib2.urlopen(link) \n",
    "            handler = BeautifulSoup(page, 'html.parser')\n",
    "            text = handler.findAll(text=lambda text:isinstance(text, NavigableString))\n",
    "            self._buffer[link] = self.process(text)\n",
    "            return self._buffer[link]\n",
    "        except:\n",
    "            print (\"Unable to retrieve web-data for {} ! Please check your link!\".format(origlink))\n",
    "            return None\n",
    "        \n",
    "    def prune(self, link):\n",
    "        return link.split('#')[0]\n",
    "    \n",
    "    def process(self, text):\n",
    "        data =  u\" \".join(text).encode('utf-8')\n",
    "        data = data.translate(None, string.punctuation)\n",
    "        data = re.sub(\"\\\\W\",' ', data.strip())\n",
    "        words = data.split(\" \")\n",
    "        filtered = []\n",
    "        for word in words:\n",
    "            if len(word) <= 30:\n",
    "                filtered.append(word)\n",
    "        return re.sub(' +',' ',\" \".join(filtered))\n",
    "    \n",
    "    def batchFetch(self, links):\n",
    "        for link in links:\n",
    "            self.fetch(link)\n",
    "        return self._buffer\n",
    "    \n",
    "    def fileFetchWithLabels(self, linkfile, trainfile, writemode='w'):\n",
    "        with open(trainfile,writemode) as fw:\n",
    "            with open(linkfile,'r') as fp:\n",
    "                for line in fp:\n",
    "                    line = line.strip().split(\",\")\n",
    "                    data = self.fetch(line[0])\n",
    "                    label = \",\".join(line[1:])\n",
    "                    if data:\n",
    "                        fw.write(\"{}|***|{}\\n\".format(data,label))"
   ]
  },
  {
   "cell_type": "code",
   "execution_count": 126,
   "metadata": {
    "collapsed": false
   },
   "outputs": [],
   "source": [
    "class MedlineCustomReader(WebReader):\n",
    "    def __init__(self):\n",
    "        super(MedlineCustomReader, self).__init__()\n",
    "    \n",
    "    def fetch(self, origlink, beyond=True):\n",
    "        link = self.prune(origlink)\n",
    "        if link in self._buffer:\n",
    "            return self._buffer[link]\n",
    "        try:\n",
    "            page = urllib2.urlopen(link) \n",
    "            handler = BeautifulSoup(page, 'html.parser')\n",
    "            text = handler.findAll(text=lambda text:isinstance(text, NavigableString))\n",
    "            textdata = self.process(text)\n",
    "            self._buffer[link] = [textdata]\n",
    "            if beyond:\n",
    "                div = handler.find('div', {'class': 'main'})\n",
    "                childlinks = div.findAll('a')\n",
    "                for clink in childlinks:\n",
    "                    src = str(clink.get('href',None))\n",
    "                    if re.match(r'^http*', src):\n",
    "                        childpruned = self.prune(src)\n",
    "                        data = self.fetch(childpruned,False)\n",
    "                        if data and childpruned!=link:\n",
    "                            self._buffer[link].append(data)\n",
    "                return self._buffer[link]\n",
    "            else:\n",
    "                return textdata\n",
    "        except:\n",
    "            print (\"Unable to retrieve web-data for {} ! Please check your link!\".format(origlink))\n",
    "            return None\n",
    "        \n",
    "    def fileFetchWithLabels(self, linkfile, trainfile, writemode='w'):\n",
    "        with open(trainfile,writemode) as fw:\n",
    "            with open(linkfile,'r') as fp:\n",
    "                for line in fp:\n",
    "                    line = line.strip().split(\",\")\n",
    "                    label = \",\".join(line[1:])\n",
    "                    dataarr = self.fetch(line[0])\n",
    "                    if len(dataarr):\n",
    "                        [fw.write(\"{}|***|{}\\n\".format(data,label)) for data in dataarr]"
   ]
  },
  {
   "cell_type": "code",
   "execution_count": 103,
   "metadata": {
    "collapsed": false
   },
   "outputs": [],
   "source": [
    "rdr = WebReader()"
   ]
  },
  {
   "cell_type": "code",
   "execution_count": 37,
   "metadata": {
    "collapsed": false
   },
   "outputs": [
    {
     "name": "stdout",
     "output_type": "stream",
     "text": [
      "Unable to retrive web-data for https://www.onhealth.com/content/1/gynecological_disorders_-_research ! Please check your link!\n"
     ]
    }
   ],
   "source": [
    "rdr.fileFetchWithLabels(\"train_level1.csv\",\"traindata\")"
   ]
  },
  {
   "cell_type": "code",
   "execution_count": 127,
   "metadata": {
    "collapsed": false
   },
   "outputs": [],
   "source": [
    "rdr2 = MedlineCustomReader()"
   ]
  },
  {
   "cell_type": "code",
   "execution_count": 128,
   "metadata": {
    "collapsed": false
   },
   "outputs": [
    {
     "name": "stdout",
     "output_type": "stream",
     "text": [
      "Unable to retrive web-data for https://familydoctor.org/condition/abdominal-aortic-aneurysm/?adfree=true ! Please check your link!\n",
      "Unable to retrive web-data for https://es.familydoctor.org/condicion/aneurisma-aortico-abdominal/?adfree=true ! Please check your link!\n",
      "Unable to retrive web-data for http://www.heart.org/HEARTORG/Conditions/Arrhythmia/AboutArrhythmia/Who-is-at-Risk-for-Atrial-Fibrillation-AF-or-AFib_UCM_423773_Article.jsp ! Please check your link!\n",
      "Unable to retrive web-data for https://familydoctor.org/condition/arrhythmogenic-right-ventricular-dysplasia/?adfree=true ! Please check your link!\n",
      "Unable to retrive web-data for https://es.familydoctor.org/condicion/displasia-ventricular-derecha-arritmogenica/?adfree=true ! Please check your link!\n",
      "Unable to retrive web-data for https://familydoctor.org/condition/bacterial-endocarditis/?adfree=true ! Please check your link!\n",
      "Unable to retrive web-data for https://es.familydoctor.org/condicion/endocarditis-bacteriana/?adfree=true ! Please check your link!\n",
      "Unable to retrive web-data for https://www.skinsight.com/skin-conditions/adult/spider-angioma?Imiw9cApl ! Please check your link!\n",
      "Unable to retrive web-data for https://www.skinsight.com/skin-conditions/adult/stasis-ulcer-venous-ulcer?Imiw9cApl ! Please check your link!\n",
      "Unable to retrive web-data for https://www.skinsight.com/skin-conditions/infant/infantile-hemangioma?Imiw9cApl ! Please check your link!\n",
      "Unable to retrive web-data for https://www.hopkinsvasculitis.org/types-vasculitis/buergers-disease/ ! Please check your link!\n",
      "Unable to retrive web-data for https://familydoctor.org/condition/peripheral-arterial-disease-and-claudication/?adfree=true ! Please check your link!\n",
      "Unable to retrive web-data for https://es.familydoctor.org/condicion/enfermedad-arterial-periferica-y-claudicacion/?adfree=true ! Please check your link!\n",
      "Unable to retrive web-data for http://www.assh.org/handcare/hand-arm-conditions/vascular-disorders ! Please check your link!\n",
      "Unable to retrive web-data for https://familydoctor.org/symptom/cough/?adfree=true ! Please check your link!\n",
      "Unable to retrive web-data for https://es.familydoctor.org/sintoma/tos/?adfree=true ! Please check your link!\n",
      "Unable to retrive web-data for https://familydoctor.org/questions-to-ask-when-it-doesnt-get-better/?adfree=true ! Please check your link!\n",
      "Unable to retrive web-data for https://es.familydoctor.org/preguntas-que-debe-realizar-cuando-el-asma-no-mejora/?adfree=true ! Please check your link!\n",
      "Unable to retrive web-data for https://familydoctor.org/condition/exercise-induced-bronchospasm/?adfree=true ! Please check your link!\n",
      "Unable to retrive web-data for https://es.familydoctor.org/condicion/broncoespasmo-inducido-por-el-ejercicio/?adfree=true ! Please check your link!\n",
      "Unable to retrive web-data for https://www.niaid.nih.gov/ ! Please check your link!\n",
      "Unable to retrive web-data for https://mothertobaby.org/fact-sheets/asthma-and-pregnancy/ ! Please check your link!\n",
      "Unable to retrive web-data for https://mothertobaby.org/es/fact-sheets/asma-embarazo/ ! Please check your link!\n",
      "Unable to retrive web-data for https://familydoctor.org/condition/occupational-respiratory-disease/?adfree=true ! Please check your link!\n",
      "Unable to retrive web-data for https://es.familydoctor.org/condicion/enfermedad-respiratoria-ocupacional/?adfree=true ! Please check your link!\n",
      "Unable to retrive web-data for https://familydoctor.org/symptom/shortness-of-breath/?adfree=true ! Please check your link!\n",
      "Unable to retrive web-data for https://es.familydoctor.org/sintoma/dificultad-respiratoria/?adfree=true ! Please check your link!\n",
      "Unable to retrive web-data for https://familydoctor.org/condition/chronic-kidney-disease-ckd/?adfree=true ! Please check your link!\n",
      "Unable to retrive web-data for https://es.familydoctor.org/condicion/enfermedad-cronica-de-los-rinones/?adfree=true ! Please check your link!\n",
      "Unable to retrive web-data for https://www.niaid.nih.gov/research/immune-system-overview ! Please check your link!\n",
      "Unable to retrive web-data for https://www.niaid.nih.gov/diseases-conditions/primary-immune-deficiency-diseases-pidds ! Please check your link!\n",
      "Unable to retrive web-data for https://www.niaid.nih.gov/diseases-conditions/pidds-talking-your-doctor ! Please check your link!\n",
      "Unable to retrive web-data for https://www.niaid.nih.gov/diseases-conditions/chronic-granulomatous-disease-cgd ! Please check your link!\n",
      "Unable to retrive web-data for https://www.niaid.nih.gov/diseases-conditions/common-variable-immunodeficiency-cvid ! Please check your link!\n",
      "Unable to retrive web-data for https://www.niaid.nih.gov/diseases-conditions/congenital-neutropenia-syndromes ! Please check your link!\n",
      "Unable to retrive web-data for https://www.niaid.nih.gov/diseases-conditions/dock8-deficiency ! Please check your link!\n",
      "Unable to retrive web-data for https://www.niaid.nih.gov/diseases-conditions/glycosylation-disorders-immunodeficiency ! Please check your link!\n",
      "Unable to retrive web-data for https://www.niaid.nih.gov/diseases-conditions/hyper-immunoglobulin-m-hyper-igm-syndromes ! Please check your link!\n",
      "Unable to retrive web-data for https://www.niaid.nih.gov/diseases-conditions/hyper-immunoglobulin-e-syndrome-hies-or-jobs-syndrome ! Please check your link!\n",
      "Unable to retrive web-data for https://www.niaid.nih.gov/diseases-conditions/leukocyte-adhesion-deficiency-lad ! Please check your link!\n",
      "Unable to retrive web-data for https://familydoctor.org/condition/mastocytosis/?adfree=true ! Please check your link!\n",
      "Unable to retrive web-data for https://es.familydoctor.org/condicion/mastocitosis/?adfree=true ! Please check your link!\n",
      "Unable to retrive web-data for https://www.niaid.nih.gov/diseases-conditions/pi3-kinase-disease ! Please check your link!\n",
      "Unable to retrive web-data for https://www.niaid.nih.gov/diseases-conditions/plcg2-associated-antibody-deficiency-and-immune-dysregulation-plaid ! Please check your link!\n",
      "Unable to retrive web-data for https://www.niaid.nih.gov/diseases-conditions/severe-combined-immunodeficiency-scid ! Please check your link!\n",
      "Unable to retrive web-data for https://www.niaid.nih.gov/diseases-conditions/warts-hypogammaglobulinemia-infections-and-myelokathexis-syndrome-whims ! Please check your link!\n",
      "Unable to retrive web-data for https://www.niaid.nih.gov/diseases-conditions/wiskott-aldrich-syndrome-was ! Please check your link!\n",
      "Unable to retrive web-data for https://www.niaid.nih.gov/diseases-conditions/x-linked-agammaglobulinemia-xla ! Please check your link!\n",
      "Unable to retrive web-data for https://www.niaid.nih.gov/diseases-conditions/pidds-genetics-inheritance ! Please check your link!\n",
      "Unable to retrive web-data for https://www.niaid.nih.gov/research/featured-immune-system-research ! Please check your link!\n",
      "Unable to retrive web-data for https://www.niaid.nih.gov/ ! Please check your link!\n",
      "Unable to retrive web-data for https://familydoctor.org/condition/repeated-infections-in-children/?adfree=true ! Please check your link!\n",
      "Unable to retrive web-data for https://es.familydoctor.org/condicion/infecciones-reiteradas-en-los-ninos/?adfree=true ! Please check your link!\n",
      "Unable to retrive web-data for https://www.nichd.nih.gov/health/topics/urinary/conditioninfo/Pages/default.aspx ! Please check your link!\n",
      "Unable to retrive web-data for https://www.nichd.nih.gov/espanol/salud/temas/urinary/informacion/Pages/default.aspx ! Please check your link!\n",
      "Unable to retrive web-data for https://familydoctor.org/condition/urinary-incontinence/?adfree=true ! Please check your link!\n",
      "Unable to retrive web-data for https://es.familydoctor.org/condicion/incontinencia-urinaria/?adfree=true ! Please check your link!\n",
      "Unable to retrive web-data for https://familydoctor.org/vaginal-pessary/?adfree=true ! Please check your link!\n",
      "Unable to retrive web-data for https://es.familydoctor.org/pesario-vaginal/?adfree=true ! Please check your link!\n"
     ]
    }
   ],
   "source": [
    "rdr2.fileFetchWithLabels(\"train_level2.csv\",\"traindata2\")"
   ]
  },
  {
   "cell_type": "code",
   "execution_count": 86,
   "metadata": {
    "collapsed": true
   },
   "outputs": [],
   "source": [
    "link = \"https://medlineplus.gov/aorticaneurysm.html\"\n",
    "page = urllib2.urlopen(link) \n",
    "handler = BeautifulSoup(page, 'html.parser')"
   ]
  },
  {
   "cell_type": "code",
   "execution_count": 99,
   "metadata": {
    "collapsed": false
   },
   "outputs": [
    {
     "name": "stdout",
     "output_type": "stream",
     "text": [
      "https://medlineplus.gov/aneurysms.html aneurysm\n",
      "https://www.nhlbi.nih.gov/health/health-topics/topics/arm What Is an Aneurysm?\n",
      "https://www.radiologyinfo.org/en/info.cfm?pg=abdominus Abdominal Ultrasound\n",
      "https://www.radiologyinfo.org/sp/info.cfm?pg=abdominus Spanish\n",
      "https://www.nhlbi.nih.gov/health/health-topics/topics/cct Chest CT Scan\n",
      "https://www.nhlbi.nih.gov/health/health-topics/topics/cmri Chest MRI\n",
      "https://medlineplus.gov/hearthealthtests.html Heart Health Tests: MedlinePlus Health Topic\n",
      "https://medlineplus.gov/spanish/hearthealthtests.html Spanish\n",
      "https://www.nhlbi.nih.gov/health/health-topics/topics/arm/diagnosis How Is an Aneurysm Diagnosed?\n",
      "https://www.uspreventiveservicestaskforce.org/Home/GetFileByID/1874 Screening for Abdominal Aortic Aneurysm\n",
      "http://www.texasheart.org/HIC/Topics/Proced/asurg.cfm Aneurysm Repair\n",
      "http://www.texasheart.org/HIC/Topics_Esp/Proced/asurg_span.cfm Spanish\n",
      "https://www.nhlbi.nih.gov/health/health-topics/topics/arm/treatment How Is an Aneurysm Treated?\n",
      "https://www.mayoclinic.org/tests-procedures/cardiac-catheterization/expert-answers/pseudoaneurysm/FAQ-20058420?p=1 Cardiac catheterization: What causes a pseudoaneurysm? Should a pseudoaneurysm always be treated?\n",
      "https://familydoctor.org/condition/abdominal-aortic-aneurysm/?adfree=true Abdominal Aortic Aneurysm\n",
      "https://es.familydoctor.org/condicion/aneurisma-aortico-abdominal/?adfree=true Spanish\n",
      "https://www.radiologyinfo.org/en/info.cfm?pg=abdoaneurysm Abdominal Aortic Aneurysm (AAA)\n",
      "https://www.radiologyinfo.org/sp/info.cfm?pg=abdoaneurysm Spanish\n",
      "https://www.mayoclinic.org/diseases-conditions/aortic-dissection/symptoms-causes/syc-20369496?p=1 Aortic Dissection\n",
      "https://healthfinder.gov/HealthTopics/Category/doctor-visits/screening-tests/talk-to-your-doctor-about-abdominal-aortic-aneurysm Talk to Your Doctor about Abdominal Aortic Aneurysm\n",
      "https://ghr.nlm.nih.gov/condition/familial-thoracic-aortic-aneurysm-and-dissection Genetics Home Reference: familial thoracic aortic aneurysm and dissection\n",
      "https://ghr.nlm.nih.gov/condition/loeys-dietz-syndrome Genetics Home Reference: Loeys-Dietz syndrome\n",
      "https://www.broadcastmed.com/3979/videos/hybrid-arch-debranching?view=displayPageNLM Hybrid Arch Debranching\n",
      "http://nlm.bcst.md/videos/transesophageal-echocardiogram-tee?view=displayPageNLM Transesophageal Echocardiogram (TEE)\n",
      "https://www.cdc.gov/dhdsp/data_statistics/fact_sheets/fs_aortic_aneurysm.htm Aortic Aneurysm Statistics\n",
      "https://clinicaltrials.gov/search/open/condition=%22Aneurysm,+Dissecting%22 ClinicalTrials.gov: Aneurysm, Dissecting\n",
      "https://clinicaltrials.gov/search/open/condition=%22Aortic+Aneurysm%22 ClinicalTrials.gov: Aortic Aneurysm\n",
      "https://clinicaltrials.gov/search/open/condition=%22Aortic+Aneurysm,+Abdominal%22 ClinicalTrials.gov: Aortic Aneurysm, Abdominal\n",
      "https://clinicaltrials.gov/search/open/condition=%22Aortic+Aneurysm,+Thoracic%22 ClinicalTrials.gov: Aortic Aneurysm, Thoracic\n",
      "https://www.ncbi.nlm.nih.gov/pubmed/29138135 Article: Comparative clinical effectiveness and cost effectiveness of endovascular strategy v...\n",
      "https://www.ncbi.nlm.nih.gov/pubmed/29061270 Article: Long-term survival and secondary procedures after open or endovascular repair...\n",
      "https://www.ncbi.nlm.nih.gov/pubmed/29044481 Article: Meta-analysis of the association between peripheral artery disease and growth...\n",
      "https://www.ncbi.nlm.nih.gov/pubmed?term=aortic+aneurysm,abdominal[majr]+AND+english[la]+AND+humans[mh]+AND+(jsubsetk[text]+OR+review[pt]+OR+guideline[pt]+OR+clinical+trial[pt]+OR+patient+education+handout[pt]+NOT+(letter[pt]+OR+editorial[pt]+OR+case+reports[pt]))+AND+%22last+1+Year%22[edat] Aortic Aneurysm -- see more articles\n",
      "https://www.ncbi.nlm.nih.gov/pubmed?term=aortic+aneurysm,thoracic[majr]+AND+english[la]+AND+humans[mh]+AND+(jsubsetk[text]+OR+review[pt]+OR+guideline[pt]+OR+clinical+trial[pt]+OR+patient+education+handout[pt]+NOT+(letter[pt]+OR+editorial[pt]+OR+case+reports[pt]))+AND+%22last+2+Years%22[edat] Thoracic aortic aneurysm -- see more articles\n",
      "http://vascularcures.org/glossary/ Glossary\n",
      "https://www.nhlbi.nih.gov/ National Heart, Lung, and Blood Institute\n",
      "https://medlineplus.gov/ency/article/000162.htm Abdominal aortic aneurysm\n",
      "https://medlineplus.gov/spanish/ency/article/000162.htm Spanish\n",
      "https://medlineplus.gov/ency/article/007392.htm Abdominal aortic aneurysm repair - open\n",
      "https://medlineplus.gov/spanish/ency/article/007392.htm Spanish\n",
      "https://medlineplus.gov/ency/patientinstructions/000240.htm Abdominal aortic aneurysm repair - open - discharge\n",
      "https://medlineplus.gov/spanish/ency/patientinstructions/000240.htm Spanish\n",
      "https://medlineplus.gov/ency/article/007391.htm Aortic aneurysm repair - endovascular\n",
      "https://medlineplus.gov/spanish/ency/article/007391.htm Spanish\n",
      "https://medlineplus.gov/ency/patientinstructions/000236.htm Aortic aneurysm repair - endovascular- discharge\n",
      "https://medlineplus.gov/spanish/ency/patientinstructions/000236.htm Spanish\n",
      "https://medlineplus.gov/ency/article/000181.htm Aortic dissection\n",
      "https://medlineplus.gov/spanish/ency/article/000181.htm Spanish\n",
      "https://medlineplus.gov/ency/article/001119.htm Thoracic aortic aneurysm\n",
      "https://medlineplus.gov/spanish/ency/article/001119.htm Spanish\n"
     ]
    }
   ],
   "source": [
    "div = handler.find('div', {'class': 'main'})\n",
    "childlinks = div.findAll('a')\n",
    "for link in childlinks:\n",
    "    src = str(link.get('href',None))\n",
    "    if re.match(r'^http*', src):\n",
    "        print src, link.text"
   ]
  },
  {
   "cell_type": "code",
   "execution_count": 93,
   "metadata": {
    "collapsed": false
   },
   "outputs": [
    {
     "data": {
      "text/plain": [
       "[<a href=\"#summary\" title=\"Go to: Summary\">Summary</a>,\n",
       " <a href=\"#cat_51\" title=\"Go to: Start Here\">Start Here</a>,\n",
       " <a href=\"#cat_92\" title=\"Go to: Diagnosis and Tests\">Diagnosis and Tests</a>,\n",
       " <a href=\"#cat_78\" title=\"Go to: Treatments and Therapies\">Treatments and Therapies</a>,\n",
       " <a href=\"#cat_47\" title=\"Go to: Related Issues\">Related Issues</a>,\n",
       " <a href=\"#cat_42\" title=\"Go to: Specifics\">Specifics</a>,\n",
       " <a href=\"#cat_46\" title=\"Go to: Genetics\">Genetics</a>,\n",
       " <a href=\"#cat_94\" title=\"Go to: Videos and Tutorials\">Videos and Tutorials</a>,\n",
       " <a href=\"#cat_79\" title=\"Go to: Statistics and Research\">Statistics and Research</a>,\n",
       " <a href=\"#cat_27\" title=\"Go to: Clinical Trials\">Clinical Trials</a>,\n",
       " <a href=\"#cat_59\" title=\"Go to: Journal Articles\">Journal Articles</a>,\n",
       " <a href=\"#cat_82\" title=\"Go to: Reference Desk\">Reference Desk</a>,\n",
       " <a href=\"#cat_83\" title=\"Go to: Find an Expert\">Find an Expert</a>,\n",
       " <a href=\"#cat_69\" title=\"Go to: Patient Handouts\">Patient Handouts</a>,\n",
       " <a name=\"summary\"></a>,\n",
       " <a href=\"https://medlineplus.gov/aneurysms.html\">aneurysm</a>,\n",
       " <a name=\"cat_51\"></a>,\n",
       " <a data-org=\"NHLBI\" data-sid=\"60917\" href=\"https://www.nhlbi.nih.gov/health/health-topics/topics/arm\" target=\"TheNewWin\">What Is an Aneurysm?</a>,\n",
       " <a name=\"cat_92\"></a>,\n",
       " <a data-sid=\"11013\" href=\"https://www.radiologyinfo.org/en/info.cfm?pg=abdominus\" target=\"TheNewWin\">Abdominal Ultrasound</a>,\n",
       " <a href=\"https://www.radiologyinfo.org/sp/info.cfm?pg=abdominus\" target=\"TheNewWin2\">Spanish</a>,\n",
       " <a data-org=\"NHLBI\" data-sid=\"68429\" href=\"https://www.nhlbi.nih.gov/health/health-topics/topics/cct\" target=\"TheNewWin\">Chest CT Scan</a>,\n",
       " <a data-org=\"NHLBI\" data-sid=\"68428\" href=\"https://www.nhlbi.nih.gov/health/health-topics/topics/cmri\" target=\"TheNewWin\">Chest MRI</a>,\n",
       " <a data-org=\"NLM\" data-sid=\"126513\" href=\"https://medlineplus.gov/hearthealthtests.html\">Heart Health Tests: MedlinePlus Health Topic</a>,\n",
       " <a href=\"https://medlineplus.gov/spanish/hearthealthtests.html\">Spanish</a>,\n",
       " <a data-org=\"NHLBI\" data-sid=\"113284\" href=\"https://www.nhlbi.nih.gov/health/health-topics/topics/arm/diagnosis\" target=\"TheNewWin\">How Is an Aneurysm Diagnosed?</a>,\n",
       " <a data-sid=\"116624\" href=\"https://www.uspreventiveservicestaskforce.org/Home/GetFileByID/1874\" target=\"TheNewWin\">Screening for Abdominal Aortic Aneurysm</a>,\n",
       " <a name=\"cat_78\"></a>,\n",
       " <a data-sid=\"76188\" href=\"http://www.texasheart.org/HIC/Topics/Proced/asurg.cfm\" target=\"TheNewWin\">Aneurysm Repair</a>,\n",
       " <a href=\"http://www.texasheart.org/HIC/Topics_Esp/Proced/asurg_span.cfm\" target=\"TheNewWin2\">Spanish</a>,\n",
       " <a data-org=\"NHLBI\" data-sid=\"95676\" href=\"https://www.nhlbi.nih.gov/health/health-topics/topics/arm/treatment\" target=\"TheNewWin\">How Is an Aneurysm Treated?</a>,\n",
       " <a name=\"cat_47\"></a>,\n",
       " <a data-sid=\"105178\" href=\"https://www.mayoclinic.org/tests-procedures/cardiac-catheterization/expert-answers/pseudoaneurysm/FAQ-20058420?p=1\" target=\"TheNewWin\">Cardiac catheterization: What causes a pseudoaneurysm? Should a pseudoaneurysm always be treated?</a>,\n",
       " <a name=\"cat_42\"></a>,\n",
       " <a data-sid=\"59646\" href=\"https://familydoctor.org/condition/abdominal-aortic-aneurysm/?adfree=true\" target=\"TheNewWin\">Abdominal Aortic Aneurysm</a>,\n",
       " <a href=\"https://es.familydoctor.org/condicion/aneurisma-aortico-abdominal/?adfree=true\" target=\"TheNewWin2\">Spanish</a>,\n",
       " <a data-sid=\"125424\" href=\"https://www.radiologyinfo.org/en/info.cfm?pg=abdoaneurysm\" target=\"TheNewWin\">Abdominal Aortic Aneurysm (AAA)</a>,\n",
       " <a href=\"https://www.radiologyinfo.org/sp/info.cfm?pg=abdoaneurysm\" target=\"TheNewWin2\">Spanish</a>,\n",
       " <a data-sid=\"56204\" href=\"https://www.mayoclinic.org/diseases-conditions/aortic-dissection/symptoms-causes/syc-20369496?p=1\" target=\"TheNewWin\">Aortic Dissection</a>,\n",
       " <a data-sid=\"87637\" href=\"https://healthfinder.gov/HealthTopics/Category/doctor-visits/screening-tests/talk-to-your-doctor-about-abdominal-aortic-aneurysm\" target=\"TheNewWin\">Talk to Your Doctor about Abdominal Aortic Aneurysm</a>,\n",
       " <a name=\"cat_46\"></a>,\n",
       " <a data-org=\"NLM\" data-sid=\"124569\" href=\"https://ghr.nlm.nih.gov/condition/familial-thoracic-aortic-aneurysm-and-dissection\" target=\"TheNewWin\">Genetics Home Reference: familial thoracic aortic aneurysm and dissection</a>,\n",
       " <a data-org=\"NLM\" data-sid=\"124804\" href=\"https://ghr.nlm.nih.gov/condition/loeys-dietz-syndrome\" target=\"TheNewWin\">Genetics Home Reference: Loeys-Dietz syndrome</a>,\n",
       " <a name=\"cat_94\"></a>,\n",
       " <a data-sid=\"103807\" href=\"https://www.broadcastmed.com/3979/videos/hybrid-arch-debranching?view=displayPageNLM\" target=\"TheNewWin\">Hybrid Arch Debranching</a>,\n",
       " <a data-sid=\"76497\" href=\"http://nlm.bcst.md/videos/transesophageal-echocardiogram-tee?view=displayPageNLM\" target=\"TheNewWin\">Transesophageal Echocardiogram (TEE)</a>,\n",
       " <a name=\"cat_79\"></a>,\n",
       " <a data-sid=\"94941\" href=\"https://www.cdc.gov/dhdsp/data_statistics/fact_sheets/fs_aortic_aneurysm.htm\" target=\"TheNewWin\">Aortic Aneurysm Statistics</a>,\n",
       " <a name=\"cat_27\"></a>,\n",
       " <a data-org=\"NIH\" data-sid=\"89175\" href=\"https://clinicaltrials.gov/search/open/condition=%22Aneurysm,+Dissecting%22\" target=\"TheNewWin\">ClinicalTrials.gov: Aneurysm, Dissecting</a>,\n",
       " <a data-org=\"NIH\" data-sid=\"76082\" href=\"https://clinicaltrials.gov/search/open/condition=%22Aortic+Aneurysm%22\" target=\"TheNewWin\">ClinicalTrials.gov: Aortic Aneurysm</a>,\n",
       " <a data-org=\"NIH\" data-sid=\"76083\" href=\"https://clinicaltrials.gov/search/open/condition=%22Aortic+Aneurysm,+Abdominal%22\" target=\"TheNewWin\">ClinicalTrials.gov: Aortic Aneurysm, Abdominal</a>,\n",
       " <a data-org=\"NIH\" data-sid=\"76084\" href=\"https://clinicaltrials.gov/search/open/condition=%22Aortic+Aneurysm,+Thoracic%22\" target=\"TheNewWin\">ClinicalTrials.gov: Aortic Aneurysm, Thoracic</a>,\n",
       " <a name=\"cat_59\"></a>,\n",
       " <a data-sid=\"76143\" href=\"https://www.ncbi.nlm.nih.gov/pubmed/29138135\" target=\"TheNewWin\">Article: Comparative clinical effectiveness and cost effectiveness of endovascular strategy <i>v</i>...</a>,\n",
       " <a data-sid=\"76143\" href=\"https://www.ncbi.nlm.nih.gov/pubmed/29061270\" target=\"TheNewWin\">Article: Long-term survival and secondary procedures after open or endovascular repair...</a>,\n",
       " <a data-sid=\"76143\" href=\"https://www.ncbi.nlm.nih.gov/pubmed/29044481\" target=\"TheNewWin\">Article: Meta-analysis of the association between peripheral artery disease and growth...</a>,\n",
       " <a data-sid=\"76143\" href=\"https://www.ncbi.nlm.nih.gov/pubmed?term=aortic+aneurysm,abdominal[majr]+AND+english[la]+AND+humans[mh]+AND+(jsubsetk[text]+OR+review[pt]+OR+guideline[pt]+OR+clinical+trial[pt]+OR+patient+education+handout[pt]+NOT+(letter[pt]+OR+editorial[pt]+OR+case+reports[pt]))+AND+%22last+1+Year%22[edat]\" target=\"TheNewWin\">Aortic Aneurysm -- see more articles</a>,\n",
       " <a data-sid=\"76144\" href=\"https://www.ncbi.nlm.nih.gov/pubmed?term=aortic+aneurysm,thoracic[majr]+AND+english[la]+AND+humans[mh]+AND+(jsubsetk[text]+OR+review[pt]+OR+guideline[pt]+OR+clinical+trial[pt]+OR+patient+education+handout[pt]+NOT+(letter[pt]+OR+editorial[pt]+OR+case+reports[pt]))+AND+%22last+2+Years%22[edat]\" target=\"TheNewWin\">Thoracic aortic aneurysm -- see more articles</a>,\n",
       " <a name=\"cat_82\"></a>,\n",
       " <a data-sid=\"105515\" href=\"http://vascularcures.org/glossary/\" target=\"TheNewWin\">Glossary</a>,\n",
       " <a name=\"cat_83\"></a>,\n",
       " <a data-org=\"NHLBI\" data-sid=\"243\" href=\"https://www.nhlbi.nih.gov/\" target=\"TheNewWin\">National Heart, Lung, and Blood Institute</a>,\n",
       " <a name=\"cat_69\"></a>,\n",
       " <a data-sid=\"81462\" href=\"https://medlineplus.gov/ency/article/000162.htm\">Abdominal aortic aneurysm</a>,\n",
       " <a href=\"https://medlineplus.gov/spanish/ency/article/000162.htm\">Spanish</a>,\n",
       " <a data-sid=\"84160\" href=\"https://medlineplus.gov/ency/article/007392.htm\">Abdominal aortic aneurysm repair - open</a>,\n",
       " <a href=\"https://medlineplus.gov/spanish/ency/article/007392.htm\">Spanish</a>,\n",
       " <a data-sid=\"83982\" href=\"https://medlineplus.gov/ency/patientinstructions/000240.htm\">Abdominal aortic aneurysm repair - open - discharge</a>,\n",
       " <a href=\"https://medlineplus.gov/spanish/ency/patientinstructions/000240.htm\">Spanish</a>,\n",
       " <a data-sid=\"84159\" href=\"https://medlineplus.gov/ency/article/007391.htm\">Aortic aneurysm repair - endovascular</a>,\n",
       " <a href=\"https://medlineplus.gov/spanish/ency/article/007391.htm\">Spanish</a>,\n",
       " <a data-sid=\"83978\" href=\"https://medlineplus.gov/ency/patientinstructions/000236.htm\">Aortic aneurysm repair - endovascular- discharge</a>,\n",
       " <a href=\"https://medlineplus.gov/spanish/ency/patientinstructions/000236.htm\">Spanish</a>,\n",
       " <a data-sid=\"81480\" href=\"https://medlineplus.gov/ency/article/000181.htm\">Aortic dissection</a>,\n",
       " <a href=\"https://medlineplus.gov/spanish/ency/article/000181.htm\">Spanish</a>,\n",
       " <a data-sid=\"82096\" href=\"https://medlineplus.gov/ency/article/001119.htm\">Thoracic aortic aneurysm</a>,\n",
       " <a href=\"https://medlineplus.gov/spanish/ency/article/001119.htm\">Spanish</a>]"
      ]
     },
     "execution_count": 93,
     "metadata": {},
     "output_type": "execute_result"
    }
   ],
   "source": [
    "childlinks"
   ]
  },
  {
   "cell_type": "code",
   "execution_count": null,
   "metadata": {
    "collapsed": true
   },
   "outputs": [],
   "source": []
  }
 ],
 "metadata": {
  "kernelspec": {
   "display_name": "Python [Root]",
   "language": "python",
   "name": "Python [Root]"
  },
  "language_info": {
   "codemirror_mode": {
    "name": "ipython",
    "version": 2
   },
   "file_extension": ".py",
   "mimetype": "text/x-python",
   "name": "python",
   "nbconvert_exporter": "python",
   "pygments_lexer": "ipython2",
   "version": "2.7.12"
  }
 },
 "nbformat": 4,
 "nbformat_minor": 0
}
